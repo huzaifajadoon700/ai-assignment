{
  "nbformat": 4,
  "nbformat_minor": 0,
  "metadata": {
    "colab": {
      "provenance": []
    },
    "kernelspec": {
      "name": "python3",
      "display_name": "Python 3"
    },
    "language_info": {
      "name": "python"
    }
  },
  "cells": [
    {
      "cell_type": "markdown",
      "source": [
        "# **Task 1:**\n",
        "**Apply BFS and DFS on trees and graphs**"
      ],
      "metadata": {
        "id": "bH7Nvz_tGa6W"
      }
    },
    {
      "cell_type": "markdown",
      "source": [
        "# **BFS and DFS for Trees:**"
      ],
      "metadata": {
        "id": "BSnID5seGwXH"
      }
    },
    {
      "cell_type": "code",
      "source": [
        "from collections import deque\n",
        "\n",
        "class TreeNode:\n",
        "    def __init__(self, val):\n",
        "        self.val = val\n",
        "        self.children = []\n",
        "\n",
        "def bfs_tree(root):\n",
        "    \"\"\"Breadth First Search (BFS) for a tree.\"\"\"\n",
        "    if not root:\n",
        "        return\n",
        "\n",
        "    # Create a queue for BFS\n",
        "    queue = deque([root])\n",
        "    while queue:\n",
        "        # Dequeue the node from the queue\n",
        "        node = queue.popleft()\n",
        "        # Visit the current node\n",
        "        print(node.val)\n",
        "        # Enqueue children of the current node\n",
        "        for child in node.children:\n",
        "            queue.append(child)\n",
        "\n",
        "def dfs_tree(root):\n",
        "    \"\"\"Depth First Search (DFS) for a tree.\"\"\"\n",
        "    if not root:\n",
        "        return\n",
        "\n",
        "    # Create a stack for DFS\n",
        "    stack = [root]\n",
        "    while stack:\n",
        "        # Pop the node from the stack\n",
        "        node = stack.pop()\n",
        "        # Visit the current node\n",
        "        print(node.val)\n",
        "        # Push children of the current node onto the stack\n",
        "        stack.extend(reversed(node.children))\n",
        "\n",
        "# Example tree:\n",
        "#       1\n",
        "#     / | \\\n",
        "#    2  3  4\n",
        "#   / \\\n",
        "#  5   6\n",
        "# /\n",
        "# 7\n",
        "\n",
        "# Construct the tree\n",
        "root = TreeNode(1)\n",
        "root.children = [TreeNode(2), TreeNode(3), TreeNode(4)]\n",
        "root.children[0].children = [TreeNode(5), TreeNode(6)]\n",
        "root.children[0].children[0].children = [TreeNode(7)]\n",
        "\n",
        "# Perform BFS and DFS traversals\n",
        "print(\"BFS Tree:\")\n",
        "bfs_tree(root)\n",
        "print(\"\\nDFS Tree:\")\n",
        "dfs_tree(root)\n"
      ],
      "metadata": {
        "id": "uiVdAsNtGcJO",
        "colab": {
          "base_uri": "https://localhost:8080/"
        },
        "outputId": "933177f1-201d-405e-d486-e392e8eff373"
      },
      "execution_count": 4,
      "outputs": [
        {
          "output_type": "stream",
          "name": "stdout",
          "text": [
            "BFS Tree:\n",
            "1\n",
            "2\n",
            "3\n",
            "4\n",
            "5\n",
            "6\n",
            "7\n",
            "\n",
            "DFS Tree:\n",
            "1\n",
            "2\n",
            "5\n",
            "7\n",
            "6\n",
            "3\n",
            "4\n"
          ]
        }
      ]
    },
    {
      "cell_type": "markdown",
      "source": [
        "# **BFS and DFS for Graphs:**"
      ],
      "metadata": {
        "id": "SKsrHrqOG9Yv"
      }
    },
    {
      "cell_type": "code",
      "source": [
        "from collections import deque\n",
        "\n",
        "class Graph:\n",
        "    def __init__(self):\n",
        "        self.adj_list = {}\n",
        "\n",
        "    def add_edge(self, u, v):\n",
        "        \"\"\"Add an edge between nodes u and v.\"\"\"\n",
        "        # Add nodes to the adjacency list if not already present\n",
        "        if u not in self.adj_list:\n",
        "            self.adj_list[u] = []\n",
        "        if v not in self.adj_list:\n",
        "            self.adj_list[v] = []\n",
        "        # Undirected graph, so add edges in both directions\n",
        "        self.adj_list[u].append(v)\n",
        "        self.adj_list[v].append(u)\n",
        "\n",
        "def bfs_graph(graph, start):\n",
        "    \"\"\"Breadth First Search (BFS) for a graph.\"\"\"\n",
        "    visited = set()\n",
        "    queue = deque([start])\n",
        "    while queue:\n",
        "        # Dequeue the vertex from the queue\n",
        "        vertex = queue.popleft()\n",
        "        if vertex not in visited:\n",
        "            # Visit the current vertex\n",
        "            print(vertex)\n",
        "            visited.add(vertex)\n",
        "            # Enqueue neighbors of the current vertex\n",
        "            for neighbor in graph.adj_list[vertex]:\n",
        "                if neighbor not in visited:\n",
        "                    queue.append(neighbor)\n",
        "\n",
        "def dfs_graph(graph, start):\n",
        "    \"\"\"Depth First Search (DFS) for a graph.\"\"\"\n",
        "    visited = set()\n",
        "    stack = [start]\n",
        "    while stack:\n",
        "        # Pop the vertex from the stack\n",
        "        vertex = stack.pop()\n",
        "        if vertex not in visited:\n",
        "            # Visit the current vertex\n",
        "            print(vertex)\n",
        "            visited.add(vertex)\n",
        "            # Push unvisited neighbors onto the stack\n",
        "            for neighbor in graph.adj_list[vertex]:\n",
        "                if neighbor not in visited:\n",
        "                    stack.append(neighbor)\n",
        "\n",
        "# Example graph:\n",
        "# 1 -- 2 -- 3\n",
        "# |    |    |\n",
        "# 4 -- 5 -- 6\n",
        "\n",
        "# Construct the graph\n",
        "graph = Graph()\n",
        "graph.add_edge(1, 2)\n",
        "graph.add_edge(2, 3)\n",
        "graph.add_edge(1, 4)\n",
        "graph.add_edge(2, 5)\n",
        "graph.add_edge(3, 6)\n",
        "graph.add_edge(4, 5)\n",
        "\n",
        "# Perform BFS and DFS traversals\n",
        "print(\"BFS Graph:\")\n",
        "bfs_graph(graph, 1)\n",
        "print(\"\\nDFS Graph:\")\n",
        "dfs_graph(graph, 1)\n"
      ],
      "metadata": {
        "colab": {
          "base_uri": "https://localhost:8080/"
        },
        "id": "9lppWd0hHk9G",
        "outputId": "f8a69a49-3872-49e8-8d42-962574ff9d90"
      },
      "execution_count": null,
      "outputs": [
        {
          "output_type": "stream",
          "name": "stdout",
          "text": [
            "BFS Graph:\n",
            "1\n",
            "2\n",
            "4\n",
            "3\n",
            "5\n",
            "6\n",
            "\n",
            "DFS Graph:\n",
            "1\n",
            "4\n",
            "5\n",
            "2\n",
            "3\n",
            "6\n"
          ]
        }
      ]
    },
    {
      "cell_type": "markdown",
      "source": [
        "# **Task 2:**\n",
        "1. Generate random and unique numbers of ranges 1000,40,000,80,000,200,000 and 1,000,000.\n",
        "So now you have 5 sets of inputs, build the tree for each sets (each set has a its own list)\n",
        "2. Apply BFS and DFS on each sets and calculate the time taken for the execution to find that goal\n",
        "through BFS and DFS.\n",
        "3. Goal should be lis[total_len – 220]\n",
        "4. Make a data frame for your results as shown below.\n",
        "![image.png](data:image/png;base64,iVBORw0KGgoAAAANSUhEUgAAAowAAACbCAYAAADof8rcAAAgAElEQVR4AeydB1RU1xaGDTPAzDB0BAUbRey9xN41tsTYTWyx9xKNxhhTLLFFjS1qYotdo0Yx9opdsSIWbCiiCAKC1GHa99YgKiga8FkucmatWcxt5+zz7b3v/rk1F+IjCAgCgoAgIAgIAoKAICAIvIJArlcsE4sEAUFAEBAEBAFBQBAQBAQBhGAUQSAICAKCgCAgCAgCgoAg8EoCLwjGGzduEBgYKL6CgYgBEQMiBkQMiBgQMSBi4D3GgEmTSeXzgmDMly8fTZs2FV/BQMRAJmKgSZMmqNVqwSoTrMR+RexXTTFgZWUl8kXki4iBTMaASZNJ5fOCYPT29paKbcIOQUDyBLRaLcWLF5e8ncJAQUAqBESNkYonhB3ZgYCU8kUIxuwQMcJGyRIQglGyrhGGSZSAlAqgRBEJswSBpwSklC9CMD51i/ghCGSdgBCMWWcmtsjZBKRUAHO2J8ToswMBKeVLFgSjEaPRiNFgwPCyr2m50fjWffDUDr0evelrMKT2a+rf8Hie/sm8t26O6CAHE/hvwfg4J17ImTS5khLPxozzKiWdUtY1LX8W7wbTvDTcX9XG474f525KvojcSENO/HzXBP6rAD7dv6erM6n150nQp+bPC3n1tBaQUhNMy5/EvMHwXH16RRtP2jXZYkitMynbv2tYor8cT+C/8uVdAsqSYEyKuInPnJH06tmTni98BzBlzRHuxxneqv1Go57YewGsnzmCdo1r8/HHNWjcYRArjt5Fa9Rxa+98PiuhRlmyF76hj96qLaJxQeA/BaNRR+iZrUwd1S8lZ3r16sPAr79jxlIfzgRFkKQzYDToCT4wj6G90+dV/2FzORenJynqJnuWTqR7ywZUqfQxDdv0Ydams0TpnlRPMBp0nFv1A71fyEtTm30YPW0Z/yyeSD1PK5RlB+MflyycJwi8FwKvLoBGdGHnWTVjNH1NsdyrF336D2bUuFms2+3HzfBYtHrTPz8aQi78y8TBvdPVogEjxrH1cgIGbQLBp334ZfCXNKhemSq1m9N33BL8bsegf5I2Rh3h13yZNSJ9G09r24Bx/H14M2M/K4naOi+9VwShfy/ERKc5mcCr8+XdksmSYHx06xRTOlfC08MDdzdHLGQfYWauJk8hDzw8ivDZd6u4GvF2U0obf5+/R9XD2coW9zI1aNKsMbUqlaDqV4u4q9dz9+QGhneoR50vJ3EmIv7d0hS95TgC/y0Y4zm6aChlc5shd3CnYqWKlPYugI3KhmItvmfftSh0ei37v6uMPJcMKztnCrib8smDYuU78c/N++yd25sSDmryFq3MJ82aUa9qJeq0GMGesGf/nBkNSWwaXgMvU27mz4ONUk6uXBY45iuEh4cXNdoPZ8GiRfRvXYe6nWdwNUGb43wlBiwNAq8ugEYenVxOu4oufGRmS+HyFalUoQzeBZyxtnWlWsef2Xk5AoM2hhMr+1JYlgsLayfyFXycMyWqNGb6nlAenP2bXrXdUdkUoGrD5jRtVIuyVZszdvUJYp8KxiRuHFvEFxU98fBwx9VBhdlHpvacKeThgUeRhvy4ZgUzh31JvfqfMmnHXSEYpRFCOcqKV+fLu0WRJcGoS3jI1ZN78PHxYcOUbng4KLFxrcP3Kzbj47OVwwHBhAUF4Lt3P+dv3ub41jWs8jnI7YhEQEfE1eP4rFnGokVLWPXPHgJCotEaHmevQRvP3cvH2bJ2GYsWLmbVpj1cCUtMd9rNhCbu/kG6FzFHUaAmP689R1xSPPcu+rJppz+xBiOaiBvs27iMZdvPEp2YxF3/A2zbupWtT77bD3EjxlQsjWge3cf/0FZW/bWIhUtWsP3wRSKSnuxN3q0jRG/Zk0DmBaMMh0Y/ceqCP4c2zKJdOQfM7Kryy84A4k2CcVRl5GYOfNz6a/78xyclx7buPEnQrfNMbu2OXFWU3gv28iBRw4Prp9i74yC34tMIRqOB+wH72eLjw8Z539OkjAsfyTz4auZKfHy2sPeYP7eDLrNj3VKW7QogUacjIfoOpw8e5Py1mwSePcC6ZYtZ9vcO/IMfEnP/Kge3rGHJ4mVs9r1IzNP/A/XEh13l0La/WbJwIX+t3sSRgGBitSJvsmcEv3urX10AnwlGM1V1Zhw5y6XzfuxcNZ1u9Yphq7ClQr9lPEiM5sTKPhSWyfBo0JuZf216nDO7DnItPILDC4dS1lGGXc1RnA+LJyk6BL+D+zl15R7JT0LVaCA+8jYndm/Bx2cjkzpXxkYho2CDYazY7IPPNl8uhdwl8PBGFi5ex7kwHcbkR9wKOMH+45cIv3uFvRtXsHjpKnaeCCQyJorrJ3ezeuliVmzYRUBILE8zVBebsmztssUsWrycf3b7cedh4rOjne/eDaLHbELg1fnybgeRBcGY3jDNkV8p72pNbu9ObH7wJC10BK76hhoVyvFZ16+o5uWCW40ebDl1j4f+6xjwaVW88rvi5paP/O4laNBzOifuxWLUJxJ05C/6N/8Yr0IFKOCaF1f3krQa+junwtMfCYkN3UsndxnmTsX48sdVBNyPRf+ke/SE+a1n4GcVKNV6Ihfvh7NheC28vbzwevIt0oDZZ2JIjglh5+9DaVTOm4IF8+OWJy/elZvzw7LjROrSj1VMCQIvI5B5wSgnd8u5xGiSeXDhXwbUcMHCrRGzD1wl6YlglLvy2agV3Hwaf0bi7pxl/Kf5MbN0peGAGRy+GY3pWqpXfbSBW+hX3wOZvBxTzkWmrqrn3qEldPukHKU6/Ma9xARun1pO1xpVaN6uHZ/VL4urgw0OrsVo1nko3wxoTXkPF2xtHChUoTmzfcMwYCA++ATzRrSnYuECuBUoQL587lRqPpBlB2+Q8DQPX2WdWJbTCby6AKYRjOqGrA6NS8Fl1D3iwpoxVC1ohSx3EzaHRKQKRnPKdZuD//2n/9GAIYoD8wdSyu4jVEVbsmBnADFPc+pl9JM5OPEzcqvNKdl9BRFPYll3i+VDPqN8+RpM3PMQXYQ/C0e2oWLdtgzo1IQS+RyxsctN0drtGDZ8MG1qlcDZzgbH/KXoMHoZl6INYIjlwoaJtKxekvyurpieq+devAbdf/XhTkzyCwdFXmahmJ8zCbw6X94tkzcsGLWcm9UBZys5amcPGnT9nlmrd3Dt1lkW9aiGvY0brX9aw54dKxnZtjJOtu70XH6ZhMhrzO5SAoe8Zekxbgm7925k1CeFUOUty7CVF0l7tVVy7B2W9q2AjUyOtbM7lT7pzM9LfIlM+bdRz539f9CipDXmZQdyOvQht09sYfXKpUwe3IYijubI3D5j461obp9cSCtvRwpU7chva3ay7+9xVHJQ4lm3Lz7X0vb4bh0iesteBDIvGM2wdC3HZ5+3oGG10ri6FKLJsEUEhCeiN6QeYfzIhuJ12jNy4iQmTZrEbysOERl7ly1TOuBuJcPSzpUS1Zozas4Wrj98eQV8mWAM2jqV+oWtMK80kqD4OK76zqCOkxxLtSvVvhjG9Im9Kaoyw9zSFvdKTRj00090q+2JwlJF9cEbeJD8gAMLBlHO2Y5ibceydc8uFv3cHi87J+oNWcTlt3w5SvaKDGHtywi8ugBmLBhNZ4SSLq6lc9X8yGUFGHv4fqpgNMOtUguGfD+RSZMmM3vhZq7EJHPv6BK+rJgXc5mSvEUq0brfL2z2CyY+ja5Mb99LBKP2MtNblsLa2pmB6x+gCz3BpE4VsDJX4uhZlxGTptKnkQeW5grUTl407vkd08a0I7+5GS7lW7P0xEOSr/vQp5YHNi5V+GH1bnaunkaHKgWwLfQ5S/xDxVHG9I4QU88ReHW+PLfyW558O4JRbYlXo+85YjoVkKxFE7iatqVcsM5dl6l7TnLm9FGWjG5PYXsLig/wIfTa37QuYE6eCq2Zvu4wp8/48e+Yhpgr89Bs5HrS/vNoukHgYdBJfh/SFE9HBWYyc1S2LjT5ZgMhybp0gvFMWGzKDQUJd08xo0d1HCxdaD55Jw/jYji+4EtczZ2o1XMCPsdOc8ZvL33LWWDjVYepO+4+O5Xwlh0gms/eBLIiGOXWeSjs7UUBFzss5BbYezdmyvbLxCUnPz4lnesj5BZK1NY22NjYkK/at1xI1pMQdpG/J35FWTcb5GYylLau1Oo8ieP30x99f0Iya4LRDLd6g/n3XBgJ8SGMqWaJLHcJ+s7eywOTqFzcHWdrFSVazuDS/TPM6lUNW3NPusxdz4lTp9ix8lc+cTfH7ZORHLgaI46WPHGC+PtSAq8ugC8XjNrrm+hZ0x25zJmRu0JTBWMuzMwVWKmtsbGxpVC5tqwM1GJIjuP6/kX0rOOFytwMuaUVrmU+ZcrmC8Q+veslrYlZFIyyQnRfdoKYuEiOrR5AEXNzvFv+zIHAh8RHnaVvCRlWnnWZtvUG19eNopybEocaw9hz8jSnj27kh45VcTB3p9+GK+j+44xBWivF75xH4NX58m55vB3BaKOiXO+1RKUe1tccm0UNT3vMZCpyu+VLOSRvOiyfL19Bao3aSvCFmVRX5kKuUOOU59ny/F7l6Tzeh/sZHUwxJHH/4h6m9KxLXpUcK5cyTNgX9YJgNGiiOLT0a8o5qnD/7EeOm+6SS4pm3091sMwlQ2XrSN4UWx73W7RGa+bsFRc3v9swzL69ZV4wpp6STtaTHHODlWM+w83CjDyfTuFa+KPUaxjtKN+8D78u/ou//vqLNbv8eXbblp64O6dY/kN7CqplyHOXYNgfxzMElzXBKMer1TiO3UrCaIhnZlNrzN0qMWqlPzoMPNw8DFdbNcU++5UL1w/xU+tiyHNZYOucJ00eF6D8F+M4cl0IxgwdImamI/DqAvgSwWjU8cB3Ls1KOvKRRSlmXwh/eg1jodqdGT97SUrOrPM5QnBCmu50MZzdNIPWFVwwz2VBiXbjOX47Kc0KT35mUTCal+S7/TfQG+Lx3zaGCkpLKnR/fGpcrwllTFVzrDxrM3VLICfm9sTb0QwzlQNuaWpNvoIfM8LnqhCMT1wg/mZI4NX5kuEmb23mOxGMyf6LaFzECXXuWkzafoyTJ08+/vqd5UZEImFXltDYUYZz+ZZMWbWfE6nL/c76c+tBQrqjfTpNJCHB4SSkXmSvDf6bdt65sXT05Ou1t9MLxvsxPLi4hX7V82BbsC7jN53jkdaIURPD4WmfYi9zpGb3cfxz8ESqTX6cv3yTqKQnF7C8Ne6i4Q+EwOsIRqM2ioOLv6asvRlWtUdzMfThY8GYwTWMOk084ffuEZOke3z0Lvkmo6tYY2bjwYApOzKk+NYE423T6bhyKOXudPptLUePp+bxydNcvv0sJzM0SswUBFIJvLoAphWMDVh1NwatJp4Ht/z4Y/hnFLSWYVWyP6diol5xDaOGmIgwwiPjUsSYURfP6dW98ZCZkb/RcPZfyehxa29LMF7lwtLBlHC2wL7aELYde5IzJ/E7G8iDhGTewaOLRexlYwKvzpd3O7B3IhgND48xpnERVNYF+WLCavYcOsKh/TtZv3wdB4OieXTvBKPqOGPlWp6e45ey+9BRDu/fyYZ16zhy7VE6wRhzfQ1Dv+jD2N/+ZMXKFSwY24WSjirsCzdh4dnYdILxVEgoW36sR265JQWqtmXs7ytYt24jx29GcXnbz1RxtKJQzc7MWL2TI0ePsOffDWzY7Mutt/wsyXfrYtHb2ySQecEow7pyD/5atZqVi6bT99Oy2KtyU2fEGu7GJGQsGI0GIm+dYNqQr/h24hz+WrmKZb9/Ty03S9QFqzFhw+UMh/a2BOPFmFus/7ktBdU2lO04js17D3H08H7+Xb+e7ceu8PDp7acZmiVmCgIpBF5dAJ8Jxo8sCvPFmHFM+HkUfdrWw8tJhSJ3KbrNO4JG8+Qu6RdvejEm3WHXkvEMGfwDsxctZ9WyPxjZoQJ2FvbU7DsX/7CMrlF/W4LxOg9PLKB5cSfU+eowbtVODh45woGdm1ixbg83ohKEYBR58UoCr86XV276xhe+tmBMPjGTqvltcCnRg22RT47IaQlY0BlXOzWVB20k+snNnMZ4rvhMolExZ6zt81G8bHnKlSqKu0ddJvgGo0uK5sTq0dQvlhdHlwKUKFshZXnR8g35dXdYumdfxd72oUeFfNiqbXDK7YStUoFV3jIMnLuPUI2eu4cW07qsPaqPh3E6JIiJDdTkyiVDaW2Pi6srrq4e9Ft7h7jQcywY0hgPZwdcPYpRvmJ5int7U7vdWI6Ii/ffeKB9qA3+t2BM5PSKUVRylWOmsCNv3rzkdXUlf+HyfNp3ItsD7qPRajn0U00UlvloNWYNt55cgmE0EHPHjwltS5Hb1gaH3M44WluidCrKF2OWExCRUeED7bXtDP6kMBbKj5l54dld0rd3zuCToraoavzA7YR4rh+aQ8O8Coq1m8jJYNMp6QR+b+mEMn8Vxqy9iOmYZsy2bylob0PJNrO5qk0m9MwGhrcoi72NE14ly1GhXCm8vSrw1ZRN6R7z86H6W4zr/yfw6gJoJO7cOrpUy4dZrlzkypWLj+SW2OQuSLl67fju9y1ci0rEoHuE39rBFLNUUqnXfC6EPbubxZgchu/CYVTJ74CtvRMuue1RKW0p1qAPS32vE5/mgffPRpPMsV/bkMfaknJ9/356ORXaa8xtXxZbWzeGb45EF+bHr199jI2yPD/5BqWckg7YNZYqNlZ83PuxHfrkMMbVVmHjXZ8Z229hjL/Nv1N7UMpFjb1bEcqWL0/pop541BnMnpuRiEsYn3lB/HqRwKvz5cX13+ac1xaMhkd3OH3El0MnrhD59BlsBuLvXeKw7wFOXXvAk7pnGoBB85BAv32sXTiLyRMn8uvsRWzceZxbMUkpr/PTxD3gyvFdrH6yfNYi/j14jpBobboL6fXaWILOHmTT8vn8OmkS035fzraDZwiNM/VmRBN9jwsnD3Lg1HViNYkEndnPnj170nz3ceFeIkZ9MtGhVzm8bS3zZ0xmwsSpzF++mWMBt3mU4Q7lbbpBtJ1dCfynYMRAbNhN/A7vS43Bvezb78vRU/4E3Y9GY3prhdFAdNAZ9u8/zIWbYTy7IsKIPjmR0Kt+7Fi3mBmTJzJ5xgI27T9F0IOEdP9IpeVnSIzk6rlj7D9wipC4JzfGGEmKusO5474cOB1Ekl5PYnQI5w7v53jALR4lmV6lqefuhUPsP3KKm+HxKXmni7zB0YO+nAgISXlsjlEbT+j1s+z8ezHTJv7CpF/nsGzjXi4ER5CU4c0EaS0TvwUB+K8CqI8L5/LpI+xN2W/vZe++/Rw6ehL/q3d4mJCcIrCMRh2Pwq9xfP8B/K7cJS7t0W2jjviIYM4e2MKSOb/yy8Rp/LlmO36BIcRqnhzceN4TBh4FB3DowH78AsN5VtISuXvxJL6+R7geoU15DmPw5VP4HvAjKDoxJWfiom5xylTzUu0wGpK5deYAvsfOcifSdL2kEc3DO5w+4MOiWVOZONF0N/dqdpiOyidpxRHG510hptMR+K98SbfyW554bcH4OnaZCqMuWUNiYiJJmmT0pnd7pmnoheVpFz63nl6bTFJKO1qef69umlX/46fpPaE6kpMSU2xK1urT2fMfG4vFggD/LRjfACSjEb3ucbwnJj3OmzfQ6v/RhBHDU3s0aE3vpv4/WhOb5iwC76oAmp6okaxJIjExiWTd+9+3m/4hS9Y8rjWaZF1K3cpZnhejfR0C7ypfMmPbOxWMmTFIrCMIZCcC70QwZicgwlZB4D8ISKkA/oepYrEg8N4JSClfhGB87+EgDMjOBIRgzM7eE7a/DwJSKoDvY/yiT0EgKwSklC9CMGbFc2JdQeA5AkIwPgdETAoC/0FASgXwP0wViwWB905ASvkiBON7DwdhQHYmIARjdvaesP19EJBSAXwf4xd9CgJZISClfHlBMJrewFK3bl3xFQxEDGQiBurUqYNKpRKsMsFK7FfEftUUA0qlUuSLyBcRA5mMAZMmk8rnBcHo5eVFcHCw+AoGIgYyEQM3b96kcOHCglUmWIn9itivmmLA3d1d5IvIFxEDmYwBkyaTyucFwSilw59SgSTsEAReRkCckn4ZGTFfEMiYgKgxGXMRcwWBjAhIKV+EYMzIQ2KeIJBJAkIwZhKUWE0QSCUgpQIonCIISJ2AlPJFCEapR4uwT9IEhGCUtHuEcRIkIKUCKEE8wiRBIB0BKeXL6wtGQyIhZ/fjs3Un54JjSfvCJYP2Ef67V/P79ClMmTaHlTvPEB6f/PhtEEYdsaGB7Fn3J9OnTGbq7EXsDQjnyQvMTKQMiaGc+HcFv02dxNSZC9h06CKRCc/eFZqOppgQBN4jASEY3yN80XW2JCClApgtAQqjcxQBKeXLawlGXUwQO+YOp1HFoniUrMo3Ky8/e2+0IY5j8/pQwdMNJ3tbbO0ccfUsT+cZe4lN1vHojh8ze9fHO58zdrY22Dq4UKJmB+YdDE15N64hIYgNP3ehvKcr9inLc1OwZCO+X3WcqGcv2c1RASMGK10CQjBK1zfCMmkSkFIBlCYhYZUg8IyAlPIly4JR/+A8C4Y2w8PZHrWlGXLbAnw173yqYDSSfOUvGns4YJW7OF9+N53xA1vi7WiJZZ5PWXcjnBOLuuOuUlGgSht+nDadoU28kcltqdJxBufjdNz69xdqedmgcKnM0GlzGNOjIflU5jjV+pqDN6NSXjz/DKX4JQi8XwJCML5f/qL37EdASgUw+9ETFuc0AlLKlywLRl3wMeb8MIyfl6xh3CeFME8nGJM5O6s9ztZKSrafz20d6O/tY0SzEijMbOm66DQzW+VF7liO4UsOE2MA7cUZFDE3w7VCG1acuc7aUS1wU8ipMHIPWgxE+v9Lv5rOmKmrMfnIDZINxpwWL2K8EiYgBKOEnSNMkyQBKRVASQISRgkCaQhIKV+yLBgx6NHr9Rh0wfze0iu9YDQ+ZOPXtbBTKak5ag9JpkFrLjCza3XszOTUGb2GweXNsfCoz7QtVx4flUzYShNrM+yKNmCWz26mf2Va14q2i26kINPePsy4NsWRy7wZ+E8ASXohGNPEkvj5ngkIwfieHSC6z3YEpFQAsx08YXCOIyClfMm6YHziLn0GglEfwl+9qmCjVNFw7BGSTevqrvJHn7o4yuVUGjyLbt5ylN5NmL3jZso1i2h8aessw9qrDlNXbGBCh4qozRzpuvpWSk/6uyeY0qkcCllBeqw6LwTjE/7iryQICMEoCTcII7IRASkVwGyETZiaQwlIKV/esGC8x/I+VVMEY/2fD6UKxkAW9K6TIhirDV9A9yImwdiYWTtupArG/bR2kmHrXY/pa3z4pUNFrM3s6bzymWCc3LEsljIP+q2/IARjDk0aqQ5bCEapekbYJVUCUiqAUmUk7BIEnhCQUr68WcFojOXfEXWxUymoNOiflGsUjXGnmNShEjZmKlrP3MM3lS2Q56vJ+PX+aIxgiFhLLaUMl7ItWHzwBLN61MLezJImMy5gwEji9f2M/tQTmaICYw9cE9cwPoki8VcSBIRglIQbhBHZiICUCmA2wiZMzaEEpJQvWRaMRqMBXbKGpPhrzPzMA7lNfjrPOklcUjI6vZarS3rgaq2gYLVB7Ax5xN3DC2lbIQ9yVSVm+l1jURcv5IoCtPlpDVejYriy9CvsZCpKNh3NoQf38RnXjkJqM1ybTeNWbDQXtv1GYw8lihJd2HIpDHEJYw7NGokOWwhGiTpGmCVZAlIqgJKFJAwTBFIJSClfsiwY9WFn+XPUF1SvWJZC9gpyySxwKliSj5v24a8D10gI3Unfau4ozC1xdHOnQB47lFaOlO+1mLD4R1zc8iPV86qxsHLA3asgjkoLbApWZNhyfxIxEHF8Ee0/LoCl3BIXjyIUyG2F0taDdr/4EPJIJ4JIEJAUASEYJeUOYUw2ICClApgNcAkTczgBKeVL1gXjg4usmfo1HVq3pnWab9teY9h4IgiNUU/IkSUMaNuYOjVrULNuEzoNn83hoGj0RiOamBB2/fkdXzSrR43qNajTqBXf/7mfuym3VAP6GC74zKZX68bUrF6d2g0/p9+E5Zy9++jxNY85PHjE8KVFQAhGaflDWCN9AlIqgNKnJSzM6QSklC9ZFoyZcZ7ptLUmNpxb165yPTiMWI3u8WsBUzc26jVEh9/hWuA1boU9ShGS6ds1kBQdyvXAQILuPiBBm/bFg+nXFFOCwPskIATj+6Qv+s6OBKRUALMjP2FzziIgpXx5K4IxZ7lTjDYnExCCMSd7X4z9dQhIqQC+jv1iG0HgXRKQUr4IwfguPS/6+uAICMH4wblUDOgtE5BSAXzLQxXNCwL/NwEp5YsQjP+3O0UDOZmAEIw52fti7K9DQEoF8HXsF9sIAu+SgJTy5QXB6OnpydmzZ8VXMBAxkIkY8PPzw93dXbDKBCuxXxH7VVMMFChQQOSLyBcRA5mMAZMmk8rnBcGYP39+2rZtK76CgYiBTMSA6UkBNjY2glUmWIn9itivmmJArVaLfBH5ImIgkzFg0mRS+bwgGKV0+FMqkIQdgsDLCIhT0i8jI+YLAhkTEDUmYy5iriCQEQEp5YsQjBl5SMwTBDJJQAjGTIISqwkCqQSkVACFUwQBqROQUr4IwSj1aBH2SZqAEIySdo8wToIEpFQAJYhHmCQIpCMgpXwRgjGda8SEIJA1AkIwZo2XWFsQkFIBFN4QBKROQEr58n8JRn1SDPfv3eVeaDjR8RoMxsfojQYtMWF3uHEtkMCrNwgOe4hGZ0j3tpe0TjLoNDy8f5vrVwMJvHaDO+ExaJ81RnJCNKHBN7kaGMi1m8FExGpI++4Xoy6R8DtBXAsM5Or1IEKj4tDqU41J25H4LQi8YQJCML5hoKK5D56AlArgBw9bDDDbE5BSvry+YNQ/4tya8XzR6nNaftmfWf+c5qFJxRmTCTm1ke86f0LFkkUpUqICDTuOYPmh62j0aWVeqh+NGgL3LdYUOl0AACAASURBVGZYh/qUL1GEoqUq06TbD2w6ew+90UBi5A12/PkD7RtUppi3N6WrNGLA1LX4309IEY3G5CgCts+jW9NqlCrqTfHyNWk/dAZ7Lz8QojHbp4r0ByAEo/R9JCyUFgEpFUBpkRHWCAIvEpBSvrymYDQQc3Etncq5YKmwJJeiAG1/XE+IHvThRxnduDBKVW7K1G5KwyrFcVQpcKszCr8ozQs09Pf30b28E1Z2blSs15R6FTyxsVTg/flUAh9Fc2rdGGrkt8XRvTyNP2tG+fxqFI7F6T1rP+FaAxEnF9K6dG4U9p7UatqM6qULoFY4UWPockJik1/oT8wQBN4kASEY3yRN0VZOICClApgTeIsxZm8CUsqX1xKMhvgbrP6mKXmcStKyaXFkTwWjnjv/DKewg4oC1fuz8exVAnbOpW1FN8wtvPjp0MPnPKcjaEU37MzVlGw+iq3+VznvM5EG3o4obMszbX8Ac7uVQmVdhK6T1nL+2lW2T/4MB5mKsq1/4GDIfbb+0II8Kjnluy/i9NVA9i0cRY2CKiw8vmRrSPRz/YlJQeDNEhCC8c3yFK19+ASkVAA/fNpihNmdgJTy5TUEYzJBO6fTpHheinf5g3/HVMf8qWCMZ/ePn+BgpaTywH+IMYIx1o+J7SthbWZJmwXXn/NdHD6DyiFTudDsx53EmtaP8eWbekVQWdrTYcpmBlZSYu7VnD/2XifZCBEBM6hoYYZb9a78fewgk9pUQG2mpPvaB5iukow/v54eNfNhZlGRqWfDn+tPTAoCb5aAEIxvlqdo7cMnIKUC+OHTFiPM7gSklC9ZE4xGI5p7x5nSpRp5vFuz7Nxdjo+t8Uwwau+xsm9VbFRK6v90kJQT0NpA5veqjYNMTr0Jful9p7/DgjaFkVm78sVvJ0k5gZx8nsmfl8bKUk29ob/R3kOGVZkOrD4agh6IDl5FY3szHMu1Zek/axnesCgKMydG7k1IaVt7YyfDmnhjLi/MyH330vcnpgSBN0xACMY3DFQ098ETkFIB/OBhiwFmewJSypcsCUaj9iHHlo+golt+Pv15HVdDHrB7VFXklvloMWIZV2NusrhnFWyUKhqOO/pYAOqu8WffejjKMxKMt5jT0guZTT46zjqN1uRabQC/tiyLWmFFncFTaV1IhnW5jqw9fi/lJpeYO+to5mCGY/m2LNmwiqH1vbE0c+Y738SUwNAF7eabZkUxl3sycu/dbB8sYgDSJiAEo7T9I6yTHgEpFUDp0REWCQLpCUgpX7IkGPURl1k8oCpWth7Ub92F/gMG0q6qG2YyawpXbs3kjTuZ17sGtiol1UfuJMF0ijnJn5ldq2Ens6DVvGvpSRjC+KtTEczUeWk5yZdE0/oJJ/mpcXGsFLa0Gr+czsXkWBZrxV8Hb6EzwsPrf1LbygzXal1Yu28b3zUugdLMmoE+MRgxormyhQEN3JFblGfK6bD0/YkpQeANExCC8Q0DFc198ASkVAA/eNhigNmegJTyJWuCMfIaa75vQREPd9zdH3/dHBTkyiXDyt6DNuPXsPaHVjhZKSj6+VQuxumJv76FAfULo5AXYszBKHSJ0Vw7vZ/dR/wJe/SIQz/UQmZhR7UeC7ieoCf24ko6lHNFaV2KcVuP8V09B2ROlfl+jR+PdHoC1/clv1xJ6ZajOXDrEnO7VsVWLqfh2GPEGjTc2j2HT4vbIi/Qnq13xE0v2T5bJD4AIRgl7iBhnuQISKkASg6OMEgQeI6AlPIlS4LRqI3nXuAp9u/Zw57U75yupZCZ56ZW53HsCgzl/tHfqJ5XjZVzSVoPGMGgjg3xcFRiV3EQxyMSeXjzBGPbl6Nkg35sOB3Mg4Nj8VLIsS9YiS8Hf0O/NjXIa21J3no/ExB2i3WjG+FkYU3h2u0Y9t1wWld0Q2HnQafJ2wlLjufMgl542lvg4N2AfiNG0LVpRZxV1pTtvZjgR+KxOs/Fnph8wwSEYHzDQEVzHzwBKRXADx62GGC2JyClfMmSYMyI/KnJDbBSe/DFhM2E6sGoCWfn1C8pZCXH3FKJwkKBU/FmTNoSQKJez/2AnXQrY4GiRAfWnryDNimU5cMbkE8lx0KhwNJCgXPZdiw4FIzOkMy9s5sY2qQYNpYWqFQKLBUO1Owxg6N34lPuik6OOMO83jWxlsuwVCqxVNji3Wgg68/cJfnJ22IyMlzMEwTeAAEhGN8ARNFEjiIgpQKYo8CLwWZLAlLKl/9bMOoSYoiMjCI2ITn11YBGtEmx3A08yY7NG/HZc4yrdyNJ0hkw6BLw9xlNBcc8NBq+mMuR2pTrDpPjo7h18SjbNm1k6/5T3AyLRpPyaj8jBr2W+Khgzh3eycb1m9h/5gZR8RqevvnPaCA5Pprrp/ayecM/7DpynjuRplcDvvxVhNkyaoTRkiQgBKMk3SKMkjABKRVACWMSpgkCKQSklC//t2DMik+1cfdZOagmlT77Gp8LUSmPycnK9mJdQUBqBIRglJpHhD1SJyClAih1VsI+QUBK+fJuBWNSJMe2rGH3qSDiM3ittAgNQSC7ERCCMbt5TNj7vglIqQC+bxaif0HgvwhIKV/eqWD8LzBiuSCQ3QgIwZjdPCbsfd8EpFQA3zcL0b8g8F8EpJQvQjD+l7fEckHgFQSEYHwFHLFIEMiAgJQKYAbmiVmCgKQISClfXhCMbm5uVK5cWXwFAxEDmYiBSpUqoVQqBatMsBL7FbFfNcWAQqEQ+SLyRcRAJmPApMmk8nlBMBYuXJjIyEjxFQxEDGQiBsLCwjD9ByhyRuwzRAxkLgY8PT1FvmRi3yLiKXPx9KFzMmkyqXxeEIxSOvwpFUjCDkHgZQTEKemXkRHzBYGMCYgakzEXMVcQyIiAlPJFCMaMPCTmCQKZJCAEYyZBidUEgVQCUiqAwimCgNQJSClfhGCUerQI+yRNQAhGSbtHGCdBAlIqgBLEI0wSBNIRkFK+CMGYzjViQhDIGgEhGLPGS6wtCEipAApvCAJSJyClfHktwZgUcZUdf03jmwG96N5rED/NXsOp2zFP39yiT47i8KpfU5b37DecKSv2E/IoCeNLPKOJDWHP0okM69eTXgNGMv3vY0Qm6R6vbUwmPPAQiyd9S5+ePRn43VQ2n7lHcpq2DLHXWTfjewb06kHfr39kyc7zRCXq06whfgoCb4eAEIxvh6to9cMlIKUC+OFSFiP7UAhIKV+yKBiNJN09ya89apHH1hbHPPlwc3HAxsqOMq2+Y8/1WAzacDZ/Wx9HKxVqGztsra1QWTlRbchqwhNTRWAaTxqTQ/mja2kcrKywtrXFRm2F0sqZxmN3Ea/XcOfEanrUKICN2hpbO1vUKiUuxRsxZcctNEYj2gfHGdeiFFYqK2xsbbFWW2HlVIp+i48SoxGvk0mDWvx8CwSEYHwLUEWTHzQBKRXADxq0GNwHQUBK+ZI1wWjUcGX7TD5xt0BdoQ+7rkYRGbiDHmWtkBesz/R/LxJx/FcqOqux96zHmMWbWTNtIB8XtEamrsL8y7HPOdBAtO8P5De3IG/ZFvyyYjPLx3elhIsShUtj1lwJYs2oethbOFKl84+s2+bDhHYlsJTZUf2rGZyNjufUnK4UtDMnX7XeLNy0mdnftMbLVo5VxSGcDIt7rj8xKQi8WQJCML5ZnqK1D5+AlArgh09bjDC7E5BSvmRRMCZxZftvfOKhwLZid9b73SHUfws9K9phV6oNi3yvcuTXVuRWKynTZQn39GAIP8joFqVRmanpujLkOd8lcnBMLeQKR+p//TdhetDf20af6u4oFXno88c+RtV1QO5Wj+lbL5JogLDDP1BELsO9bh82nzvH3K7VsJVb0Hr+dXQYiDi+gi8r5cZMXYt5lyOe609MCgJvloAQjG+Wp2jtwycgpQL44dMWI8zuBKSUL1kTjBiJvXWMqd1r4GznTJmmX9G7bTXcC5Sk4/i1BD4I5e/BNbBVKak9eh8ak6eSLzK7W03sZXI+mXo+ve8MYSztWASZtSttfz36+LpEzWnGNSuJlaWaxt/+SeeiMpQl27LycHDKNZLRt5ZSz9qM3BXbs3z7Zr5rUgKlmR1f74hPaVt7dRuDG3kilxdjzKHQ9P2JKUHgDRMQgvENAxXNffAEpFQAP3jYYoDZnoCU8iWLghGMulgCfCbzSREnZB99xEcfybDzqM2YNad5qAlhaa8q2ChVNByXKgB11/izT10c5XLqjDuR3nn6W8xp6YXcJh8dZ51Ga1qqvcCvrcqitrSi9qAptC4kw7pcR9Yev4fpisSYO+to5miGQ7k2LF6/kqH1vbE0c+Y738SUtnVBu/mmWVEs5J58s/tu+v7ElCDwhgkIwfiGgYrmPngCUiqAHzxsMcBsT0BK+ZJFwagn4tIORrcrR24nLz4dNpmfulYnj9qKgrW6s+LwSZb0qZoiGOv9dPDxEUPdFRb0qp0iGF84wqgPZn4bL2Q2bnT47USqYDzP5BalUSusaDRiDu08ZahKf8HqoyGpgnEVje0eH2Fc5vM3wxoUxdLMgRF7UgXjjR183cQbc3GEMdsnSnYYgBCM2cFLwkYpEZBSAZQSF2GLIJARASnlS5YEozH5Prvn9cRbqaRC38VcDU8k/v4VFnQrgYWFO51/W89f3zbE3kpBuV6reKAzoo86ys+tyqE2s6XX+jCMBj2axHji4pPQ6WPZPKAMZsrcNPp2M1E6I7oHuxlcwxOl0pW+C3fTv6ICWcFGzN5xhSSDkTC/XyhjLsez4QD+9T/OLy3Lozaz4MvFd9AZDcScWkPnqnmQWddnyfXIjPiLeYLAGyMgBOMbQykayiEEpFQAcwhyMcxsTEBK+ZI1wZh0l63TvqSghYLy3WdxNCCImwFHmdm1DEqlN73m7uDMuuEUtleSp2Qbft/rx76lP1CviAOWLk1YezuO+LArLP+5G18Omc7h6w8IWtEdO3NLPGt0Z8kBP3bNG0L5fNbYeH7JlsAr/N6tFEoLN5qNnMd+v5Ms7lsJpaUznwxaxJW4B2z9oQV5VTI8m41l96mjrPqlO6WcLHFu+BMXIxKycZgI07MDASEYs4OXhI1SIiClAiglLsIWQSAjAlLKlywJRgzxBO6dR4cKrqjt81OpfjOa1a9EQUd7ijToz5oTwSRFHmds6wrYWlpgmzsvLg7WqHMX5tMf/iFSoyUsYBfdy1pg7vU5S48EoQn3pV9Nd2wUChxc8uJkp0btUpyOM3xJSI7h3D/jaejthNLKnnwF8qC2VFGoRkcWHLhNMgYenl5G1xoeWJorccqbDydbNY4eNfl29Rlik8VzGDMKQDHvzREQgvHNsRQt5QwCUiqAOYO4GGV2JiClfMmaYMSILu4+p3csY+KoQXTv0oku3fowYtxsNh8N5KHG9C4XAw8u7mTWj0Pp2bULX/Uewvh5/xBwPw6DPpkbhxfQuIA1RVv9yKGbMRgwcPvEeqaNHkT3rl3o3m84kxZt52a06V0uRjTRIRzZOJfRg3vRpXNX+o+YwOr9l3iYcoeMqbtYrh1Yw8/D+tC1cxd6DR7NnPWHCYnRvPTNMtk5eITt0iIgBKO0/CGskT4BKRVA6dMSFuZ0AlLKlywKxlTXGfVo4qIJD71HaFgkcUm6dOLMaHoDS9IjHtwPJSwihiStPmW5PjGKf8c2xrNoXcb+fY7o1COARqOB5IRowu+HEh4Vi0ZnSN+ePpm4hw8IvXefqDhNys0v6YPIiCY2kvuhoUREx5Gsf9lLCNNvJaYEgf+XgBCM/y9BsX1OIyClApjT2IvxZj8CUsqX1xOMr8lcExfCmrH9+GHeNoJitelE4Ws2KTYTBN4rASEY3yt+0Xk2JCClApgN8QmTcxgBKeXLOxWMpiOJWk0SyaYjjuIgYA4L+w9zuEIwfph+FaN6ewSkVADf3ihFy4LAmyEgpXx5p4LxzeATrQgC0iEgBKN0fCEsyR4EpFQAswcxYWVOJiClfHlBMLq7u7NkyRLxFQxEDGQiBhYuXIirq6tglQlWYr8i9qumGHBxcRH5IvJFxEAmY8CkyaTyeUEwFixYkAkTJoivYCBiIBMxMG7cOHLnzi1YZYKV2K+I/aopBhwdHUW+iHwRMZDJGDBpMql8XhCMUjr8KRVIwg5B4GUExCnpl5ER8wWBjAmIGpMxFzFXEMiIgJTyRQjGjDwk5gkCmSQgBGMmQYnVBIFUAlIqgMIpgoDUCUgpX4RglHq0CPskTUAIRkm7RxgnQQJSKoASxCNMEgTSEZBSvmRdMJoesh33kLtBVwnwP49/wBVuhUaRpHv2nByjIZmokBtcunCe8/4XuR4SQWLqw7tJfUj33RtX8D//ePu7UYkZPIw7lZnRgCYukuBrl1LWv3D5Ovejk9Ktb9TFc+/GFS6cP4f/xUCCw2OePrzbaNST+Cicm1cCOH/+PAFXbhIR/+Q1Men8IiYEgSwTEIIxy8jEBjmcgJQKYA53hRh+NiAgpXzJomA0khB2hc1zR/FFk5qULloY71KVad59DOuO3CTOJBqNGm4fW82w9vUpV6wwhYuWpW67wSzcF0iS3oAmOpi9i3/ii4aVKVbYC+/SVeg0aj5Hb8WmE4EpfjQaSHhwFZ+5I2lVpwLeXl6UqFSPXuOXceZufMr6xuQIzmz6jY4NK1O8sCdFS1elVf9J7AgIQ6s3EBt6juUT+tK4Smm8vQpT6uNGDJ2xmZuP9NkgVISJUicgBKPUPSTskxoBKRVAqbER9ggCzxOQUr5kUTDque27jK4NylKjSWs6dmhGYTsZucztqPrVVPxCk9HfP8iIBp4orVyo0LAlzWqWIreVJXlrDOd4eAyB2ydRv5AtDgXL0LhlS2oXdcLcyo1WP2zmjun10Wk+Bs1DTq4eRRU3G5y8KvNZm5Z8XNAahUNReszYw32tnvCj82lR0gmlgzf1P29JnfLuWCscqTJwKcHRMRz4rT2edmrylaxBi5aNKJHHGqVjSb75OxBNmr7ET0HgdQgIwfg61MQ2OZmAlApgTvaDGHv2ICClfMmiYDQSG3qTk4cPci7wFnfvBPJHJ2/Mcn2EW+3ebDr/kNvrh+Jlr6JgzSFsCbhJ4L4FdKicD3MLD77bdpXVg8qhsnKn9fdLOHMjiLPL++AsM8ezdh/+DdKl8aCRxPDLzO5SAqVNMXr8uoGLQUHsnd4KR5mSMi2/xzc4FJ/vP8VFJadin+X437zBwb/GUMtdhXmhDvwTeIRvKlmjzFeJr+fv49rNi6weUhsrhZqKneZzPW13aXoWPwWBzBIQgjGzpMR6gsBjAlIqgMIngoDUCUgpX7IoGMFoND7+plDWsW1QSWS55Hg1Gc6ua1HsGtMIByslHw/ezCPTGeq4U0zqUBkbMwuaTtzB6Joq5PlrMWGDPxojGCLXUkthhmPJJsw/HJPGd0Yibxyif0UF5oU/ZeG+62iNEHlpJpUtzXCr1oV1R32Z2Lo8ajMlPf+OxIiRBP8N9KyVDzOLCozb/ht1rWTkrdSe5WfiU5ZHbRxEbpUKz5pfs/+hIU1/4qcgkHUCQjBmnZnYImcTkFIBzNmeEKPPDgSklC9ZFoxPARv1JN3dSZuC5pjbetN58hbuJt1jRZ+q2ChV1P/pEClnmLWBzO9VBwe5nI+HzKVHUTnKwo2Ztf0GKQf4kvbRykmGTeG6TN9x72nzGPXcv7SBdh4yrMp8weqjIZiuOowOXkVjezMcy7Vl6cY1DGtYFIWZEyP3JaRsq72xk2FNvDGXF2bg3OEUl8spVKsH/wQ+vtEl6eBYPNQqClTqzuY74jrGZ8DFr9chIATj61AT2+RkAlIqgDnZD2Ls2YOAlPLl9QSjUUdsyElmdiyLuaU9Vb4ch++dJIz6EJb2qpIiGBuOO/pYMOqu8WffejjK5VQaMpuvCstRFWnKnJ1BKQIQzUHaOcuw9qrDtOcEY2jAOloXkmFdriNrj99Luckl5s46mjmY4Vi+LUs2rGJofW8szZz5zjcxxfu6oN1806wo5nIvBs4eSlG5HI86vdh87bFg1ByZgKe1ivyVugnBmD3yRdJWCsEoafcI4yRIQEoFUIJ4hEmCQDoCUsqX1xCMemLvnGT+wIa4WKkp9elwNvpHPhZ/hkg2DKmJrUpJ9RE7iDedkk7y57cu1bCTWdJkwkYGljXHolA9pmy+lHKK2fjIh0+sZTiVbMKCI2lOSRsNhAVup0sxOZZFW7HU9xamm7AfXvuDWlZmuFXvytr92xndpCRKMzUDNseknHJOuuxD//ruyC0qMHbjWCqay8hXtSNr/BNTlsduH4mrlQovcUo6XVCKidcjIATj63ETW+VcAlIqgDnXC2Lk2YWAlPIli4LRSGJYAMtGt8LL0ZYCtXqx8ex9NDodOr0BgyGZU9PbklutoMhnk7gQqyfumg/96nphae7BqK3+TPvUGZltcfrO3s2DZB0Rvj9QSG6BZ+2+bL2tw5AYzvmDO9my+zRBQacZ3cARmWNFvlt9khitjitre5HPdNNLqzH4Bl9m3lfVsJPLqP/jYR7pNQTtmk2zYjaYF/qCTf7raZ3XdPSyHpO33ECjj+HIL59irbKmYqc/uCkex5hdckaydgrBKFnXCMMkSkBKBVCiiIRZgsBTAlLKl6wJRmMCl7ZP5xNPNWa55Nh7fcynn3/O559/TstOw1nue4Uwv9nUdFWjcipK8+4D6dWmNgXtFdh/PJSToWHs+601rhZK8pVrRI9B/Wlf3QMLK2eaffcP95KNaC9toHfTShQt15GN126z/ofG5LawwqNqC/p/3Z/mZfJgae9Jl6m7CNcmcO7PPnjZW2DnWYuvBg6iQ4MyOCmtqdDvL24/uMOCLz2xVDhQqm47Bg7oSi1vR5R2Xgxde4PkZ88af+oc8UMQyAoBIRizQkusKwiAlAqg8IcgIHUCUsqXLArGOM5sGEs1Fxm5cuVK9/3IrjwjVhzlYVIU+2Z2wV0tR25hiYW5JU4lWzB9xxWSdDoe3jjE+C8q4KiQY6mwRG6mpHyHSRy88/hB3EnH59GgmBNKl8/Z+jCZMP9/GfFpCWwtzVEoLLFQOFKnzxz87pneDmNE+/ACC/vXwVouw9xSgbmlLUWbfs1m/1CSdTpC/Jbx1cduKM3NsbQ0R6bIy6ffr+NWvLjhReqJkh3sE4IxO3hJ2CglAlIqgFLiImwRBDIiIKV8yaJgNGLQa0lKTCAh4blvYhJanT7lkTt6nYaoOwEc2r2TvUf9CYmMQ2tIfRyP0YA2IZKbAcfYtWMXh/1vE6/RYjBd76iP4dDsXhTL40z9H3eTaHqEj0FPcvwDrp45zM7tuzgZGEqCVpeyfgpcoxG9NpF7l4+xe8cujpy9xoM4Dfon/Rl0JDwM5dKJA+zYdYDzQQ9ITNYjDi5mFJpiXlYJCMGYVWJi/ZxOQEoFMKf7Qoxf+gSklC9ZE4xvma0u3I/pfZpSpeXP+IU/fkzOW+5SNC8I/F8EhGD8v/CJjXMgASkVwByIXww5mxGQUr5ISjBqo25xZOdWDl4JI1kvjgFms7jOkeYKwZgj3S4G/X8QkFIB/D+GITYVBN4JASnli6QE4zuhLzoRBN4gASEY3yBM0VSOICClApgjgItBZmsCUsoXIRizdSgJ4983ASEY37cHRP/ZjYCUCmB2YyfszXkEpJQvQjDmvPgTI36DBIRgfIMwRVM5goCUCmCOAC4Gma0JSClfXhCMrq6ueHl5ia9gIGIgEzHg6emJhYWFYJUJVmK/IvarphgwNzcX+SLyRcRAJmPApMmk8nlBMEpJzUoFkrBDEHgZAXGE8WVkxHxBIGMCosZkzEXMFQQyIiClfBGCMSMPiXmCQCYJCMGYSVBiNUEglYCUCqBwiiAgdQJSyhchGKUeLcI+SRMQglHS7hHGSZCAlAqgBPEIkwSBdASklC9CMKZzjZgQBLJGQAjGrPESawsCUiqAwhuCgNQJSClfXl8wGuII3LuaufOXsO9yFIZXUDckBLN/+a/0/6ojnXoMYuryPdyK1j7dQvMomJ1//kz/bp3o3HMIk1YdJiIpdbkxmbDLB1gwdghdO3ak17DxbPC7S/LTrZ//YSTh7lnW/jaanp068lX/0Sze7k/Us+5IuH+GxeOH0r1zR7oP+oFl+68Ql5w6AqOWiGtHWfzLML7q1JFuA8ew5tgdNM93I6YFAUAIRhEGgkDWCEipAGbNcrG2IPDuCUgpX7IsGI16DVHXDzKzTwNcbSyxsC9Et/nn0WXI0Yg26gLz+9XDxUqJjYMTDnZqLJR5aTxsMZcikjEkBTOzbWGsLE3LHbG3UWFhYUvtUVt4pEvi1uGldKzogkplg6OTIzZKC+w8azJu8zUSn1epRj3RV7YyvFlxbJRqHJycsFdbonApQ785ewnXGNCE7KRHudxYKNTYOzpia6XAwqY4A1b7o9VruXtqLT2q5kWlssbByRFblQU2bhUZte7Ki/1lOGYxMycREIIxJ3lbjPVNEJBSAXwT4xFtCAJvk4CU8iXLglF39ziTu9fBu2hJCjsrkdsW4Kt5LxGMxiQCN02krocVSo9mzFi/k7/nDKNqXkssC3/O4iM3CNs3mnzmlrhVaM3UNVtZM6kHpfOqUDg3ZOXFm6waUQc7y9zU6DaOjbu2MaVjaRQyO6p1ncaZ6PSK0Zh8n52zelLUWkGhRkNYuW03C79rjpvCHPfGw9l9OZSD45pio1JRovlIVm7dzPT+TcivlqOu9j03okPZ/FND7C0c+fjL71m7fRtzeldBKVNTvvV4jkel7+9tBoloO3sQEIIxe/hJWCkdAlIqgNKhIiwRBDImIKV8ybJg1IddYvNfC1i+cweTmrpj/irBqL2Lz6ROeCjNKTXoH2I0euJvn2LC54WQKUry9bqD+IyqgVzhRIPh6wnXgz50O/2qe6BUuNBr/l6+rWOPPF99Zmy7mHKEL+zoTxQzl1GoTm82XUpMR1gXdp65vSqjMveg94qTxGr13L/0Dx080AvjxAAACdlJREFU5VgW/ZzFu/7hp8ZFUNnkpe+qO+gxELZ3Fo2K2fGRdUNWXLnAzw0dkeepzrj1Z4k3QNyF6ZQwN8Pt4y9Zcz4hXX9iQhAQglHEgCCQNQJSKoBZs1ysLQi8ewJSypcsC0aMBgwGA0ZdML+39HqlYDTEXWHxsE/ILVPTeOoxErRG9A8u82ffSljKCtBp3jqmtSmCzNqVtr8efXxdouY045uXxMpSTeNv/6BTERnKkm1ZeTgYPRB9ayn1rc3IXbE9K45HpvGekYSbR/jpM3dkVpX4efdFEgxGHgad4OtqVsjc6jL1r6l0Lp8fK3tvxvkmpWyrOb+SDpXcMJOX5pf9e+hZQo6iSHPm77mZ0p8mciOf2HyEQ8lmLPB9kKY/8VMQENcwihgQBLJKQEoFMKu2i/UFgXdNQEr5knXB+ISWPhOC8eEF5g2ojb3Mnhaz/UjUGjFEBrJ0SA2sZHlpN2MxPzbxRG6Tj06zT5NyX4o2gF9blUVtaUWtgVNoXUiGdbmOrD1+L+XGmpg762jmaIZDuTYsPRz+xBrAyKOrvoxs5IbMrjqT918m0Wgk5vZpRtW1Q+ZSk/Fzf6RVaVesHEox5cTj21i0V9bTpVoBZPIifP/vJr70kGNVshWLDjwWqJroHXzuZIZt8SbM3Ruapj/xUxAQglHEgCCQVQJSKoBZtV2sLwi8awJSype3KxhjLvLH4Po4yKxpNuPEY8EYcYXFA0zXBRag87yV/NLCC5mNG+1nnEgVjOeZ9Flp1AorPhk5h/aeMlSlO7D6aEiqYFzFJ7ZmOFfqwMoTUWl8ZyT2+kG+a1oAmboKE/ZeShGM0bdP8U1Na2Ru9Zi6cCLty7hhZV+UX46kCsaLa+lYJT8yeRl+2beVLt5ylMU+4899QY+PMEb/S3N7MxxKNeePgxFp+hM/BQEhGEUMCAJZJSClAphV28X6gsC7JiClfHnzgtGoJ/HRQ6IePiIp4Rbrfm5DPnM55QZvJlqjJ+H2SX5p5YnMqgLf+xxm9cBymCmdaPDNRiJ0RrT3dzDAdA2jKh8Dl+5jYGUlsvwN+G3bJZIMRkKPj6WkXI7XJ4PYdl2L6a7t2IdRRMUkkHj3NNM6lcZc7kWflSd4ZLqGMWAzX3jLUZVuz8q96xhRyxOldR76rw5Ba9TzYP8sGhV3wMyhBRtvnGNkdRUy1xpMWH825ZT2o4u/UUYup2DNbmy4/PKH+bzrIBL9SYOAuIZRGn4QVmQfAlIqgNmHmrA0pxKQUr5kWTAak2O5d/MSZ05u5du6+ZCp89B81GpO+gdyPzoBgy6IFSM606bbt2wOCMNvxSgq51WgLPYFy3f74rNwDLXyK3Go1J2NZ0IIWt0LB3NL3Kt2Yf6Og/j81o8yrmpsvbuw/doV5vcoi8oiL58Mncn2Q7783qNCyg0xTYYu4WqCEV3wHn7s2Y6Og+dzPvwWG8e3pYDCEu/WP/PvvoOsmNCGggo1Zb4Yz5FbwWwYUhNrpZqy7Saw7eAu5n7dgkK2CvK1nENoVDDLB1bEytKZen0m4+Pry9LBNVFYOFCn1zwume6CER9BIA0BIRjTwBA/BYFMEJBSAcyEuWIVQeC9EpBSvmRZMOpD/Zg1qDklvT1wUZuTy0yOjXMhitXsyILdV0hK2E0XdwfU+SsyYWcEcTf2M75TNXKrLLFxyU9eeyts3crRa/oWbsfoMEQcYUg9L+wUCuxzu+Boq8batQzd5hwmUfsI/y2TaVrMGaXKDtd8zinXNnrW+YrFh++knMJOOjCR0q5qchftwr/hidw+uoKetT1TTmk758uPg5WCPCWb88v600RpDUQe/4MWZfKisFThlCcPdtZq8pRoypRdN9Fr4wncPZPPS+XBSmVLXjdnrC2UFKzagd/33X7Fw8LfazyJzt8jASEY3yN80XW2JCClApgtAQqjcxQBKeVLlgWj4VEIR7YsY9aMGcxI8/3tj3WcuB7Go4D51M5rh0fdIey+owNjEvcu7GPx1DH079WTfkNGM3PlLgLD4lKuEQQDIWe2MHf8SPr36UX/r79n5so93Ioxnf41kvwolJP/LmL8yEH06tmHYT9OZ+Phq8SY7pAxaLiypB8eDmo+7rWS21pTd1FcOriBGT8Oo0/Pngz+9hf+2ubHvdjUR4sbYrmwazm/fDuIPr36MPS7SSzbcY7IJB1GjGjjwjmz4y8mjhpM7559GDJ6EusOXCbNi2lyVLCKwb6agBCMr+YjlgoCzxOQUgF83jYxLQhIjYCU8iXLgvGVMA2R7BnXAtc8Zfh+y/WU5xg+Xt+IPimWiPAwIh7GotEZ/9feHes0FYZhAL6FhsGR0VvwPhy9B0KiDt6Ai7p4Fw4ODl0Mg1fgZmJi4l4qUKHYgvacz1QjUhigCT28Jc9JmlDS9H/P8/2H8wYCLLxN2zZ1OjmsveFufRuN63TW1PlXtM3POv6+X7uDYY2OT8/+DWFz8LFePnpQ9+4/rLefR2efr3ZWJ+NRDQeD2j+c1IXlqm1nNT3ar+HusA6OJvWrOb9a1Xy9H4d/1zsYn/x/34XUnhDwSy/2AIFlBZJugMtm93oCXQskXS83WxgnX+rN88f15PX72jtZLGGrQJ5+/VCvnj2tF+8+1XS2+vVWcQ7ec70FfIdxvecnffcCSTfA7s/eigSWE0i6Xm62MLbtnz/q3TTzH+6u/mj/rde2Nf/YQaBrAYWxa3HrrbtA0g1w3S3lv/sCSdfLzRbGuz87Z0hgQUBhXODwhMCVAkk3wCvDegGBWxZIul4UxlveDJZfbwGFcb3nJ333Akk3wO7P3ooElhNIul4uFcbNzc3a3t72YGAPXGMPbG1t1cbGBqtrWPm64uvqfA/0ej3Xi+vFHrjmHph3spTjUmHc2dmpfr/vwcAesAfsAXvAHrAH7IFb3APzTpZyXCqMKcHkIECAAAECBAgQyBBQGDPmIAUBAgQIECBAIFZAYYwdjWAECBAgQIAAgQwBhTFjDlIQIECAAAECBGIFFMbY0QhGgAABAgQIEMgQUBgz5iAFAQIECBAgQCBWQGGMHY1gBAgQIECAAIEMAYUxYw5SECBAgAABAgRiBRTG2NEIRoAAAQIECBDIEFAYM+YgBQECBAgQIEAgVkBhjB2NYAQIECBAgACBDAGFMWMOUhAgQIAAAQIEYgUUxtjRCEaAAAECBAgQyBBQGDPmIAUBAgQIECBAIFZAYYwdjWAECBAgQIAAgQwBhTFjDlIQIECAAAECBGIFFMbY0QhGgAABAgQIEMgQUBgz5iAFAQIECBAgQCBWQGGMHY1gBAgQIECAAIEMAYUxYw5SECBAgAABAgRiBRTG2NEIRoAAAQIECBDIEFAYM+YgBQECBAgQIEAgVuA321+My+MBjMYAAAAASUVORK5CYII=)\n",
        "\n",
        "5. Finally plot the bar chart of the time taken by each search for example (on X-axis the data will\n",
        "be 1000,40,000,80,000,200,000 and 1,000,000.) and on the Y axis the data will be the seconds it\n",
        "took while searching"
      ],
      "metadata": {
        "id": "llDZQmoxHzkw"
      }
    },
    {
      "cell_type": "code",
      "source": [
        "import time\n",
        "import random\n",
        "import pandas as pd\n",
        "import matplotlib.pyplot as plt\n",
        "from collections import deque\n",
        "\n",
        "def generate_random_numbers(size):\n",
        "    \"\"\"Generate unique random numbers for each set.\"\"\"\n",
        "    return random.sample(range(1, size + 1), size)\n",
        "\n",
        "def build_tree(numbers):\n",
        "    \"\"\"Build a tree from a list of numbers.\"\"\"\n",
        "    return {num: {'left': None, 'right': None} for num in numbers}\n",
        "\n",
        "def bfs(tree, goal):\n",
        "    \"\"\"Perform Breadth First Search.\"\"\"\n",
        "    start_time = time.time()\n",
        "    queue = deque([list(tree.keys())[0]])  # Start from the root node\n",
        "    while queue:\n",
        "        node = queue.popleft()\n",
        "        if node == goal:\n",
        "            return time.time() - start_time\n",
        "        left_child = tree[node]['left']\n",
        "        right_child = tree[node]['right']\n",
        "        if left_child:\n",
        "            queue.append(left_child)\n",
        "        if right_child:\n",
        "            queue.append(right_child)\n",
        "    return time.time() - start_time  # Return time taken even if goal not found\n",
        "\n",
        "def dfs(tree, goal):\n",
        "    \"\"\"Perform Depth First Search.\"\"\"\n",
        "    start_time = time.time()\n",
        "    stack = [list(tree.keys())[0]]  # Start from the root node\n",
        "    while stack:\n",
        "        node = stack.pop()\n",
        "        if node == goal:\n",
        "            return time.time() - start_time\n",
        "        left_child = tree[node]['left']\n",
        "        right_child = tree[node]['right']\n",
        "        if right_child:\n",
        "            stack.append(right_child)\n",
        "        if left_child:\n",
        "            stack.append(left_child)\n",
        "    return time.time() - start_time  # Return time taken even if goal not found\n",
        "\n",
        "def main():\n",
        "    sizes = [1000, 40000, 80000, 200000, 1000000]\n",
        "    results = {'Total Size': sizes, 'BFS Time': [], 'DFS Time': []}\n",
        "\n",
        "    for size in sizes:\n",
        "        numbers = generate_random_numbers(size)\n",
        "        tree = build_tree(numbers)\n",
        "        goal = numbers[-220]\n",
        "        bfs_time = bfs(tree, goal)\n",
        "        dfs_time = dfs(tree, goal)\n",
        "        results['BFS Time'].append(bfs_time)\n",
        "        results['DFS Time'].append(dfs_time)\n",
        "\n",
        "    df = pd.DataFrame(results)\n",
        "\n",
        "    # Print the DataFrame\n",
        "    print(\"Results:\")\n",
        "    print(df)\n",
        "\n",
        "    # Plotting the bar chart\n",
        "    ax = df.plot(x='Total Size', kind='bar')\n",
        "    ax.set_ylabel('Time (seconds)', fontsize=12)\n",
        "    ax.set_xlabel('Total Size', fontsize=12)\n",
        "    ax.set_title('Time taken by BFS and DFS for different sizes', fontsize=14)\n",
        "    ax.set_xticklabels(df['Total Size'], rotation=45, ha='right')\n",
        "    plt.show()\n",
        "\n",
        "if __name__ == \"__main__\":\n",
        "    main()\n"
      ],
      "metadata": {
        "colab": {
          "base_uri": "https://localhost:8080/",
          "height": 638
        },
        "id": "U1Kk9QhZUH5N",
        "outputId": "97e08c68-a1f2-443f-9d7d-2624f6cced9e"
      },
      "execution_count": null,
      "outputs": [
        {
          "output_type": "stream",
          "name": "stdout",
          "text": [
            "Results:\n",
            "   Total Size  BFS Time  DFS Time\n",
            "0        1000  0.000018  0.000011\n",
            "1       40000  0.001976  0.000835\n",
            "2       80000  0.005013  0.002763\n",
            "3      200000  0.014501  0.013166\n",
            "4     1000000  0.076556  0.074635\n"
          ]
        },
        {
          "output_type": "display_data",
          "data": {
            "text/plain": [
              "<Figure size 640x480 with 1 Axes>"
            ],
            "image/png": "[encoded data removed]"
          },
          "metadata": {}
        }
      ]
    },
    {
      "cell_type": "markdown",
      "source": [
        "# **Task 3 :**\n",
        "Consider a maze as shown below. Each empty tile represents a separate node in the graph, while\n",
        "the walls are represented by blue tiles. Your starting node is A, and the goal is to reach Y. Implement\n",
        "an A* search to find the resulting path."
      ],
      "metadata": {
        "id": "88BkTFgrwnOn"
      }
    },
    {
      "cell_type": "code",
      "source": [
        "def manhattan_distance(pt1, pt2):\n",
        "    x1, y1 = pt1\n",
        "    x2, y2 = pt2\n",
        "    return abs(x1 - x2) + abs(y1 - y2)\n",
        "\n",
        "def a_star_search(maze, start, goal):\n",
        "    rows, cols = len(maze), len(maze[0])\n",
        "\n",
        "    # Initialize scores and parent pointers for all nodes\n",
        "    g_score = {(x, y): float('inf') for x in range(rows) for y in range(cols)}\n",
        "    g_score[start] = 0\n",
        "    f_score = {(x, y): float('inf') for x in range(rows) for y in range(cols)}\n",
        "    f_score[start] = manhattan_distance(start, goal)\n",
        "    parent = {(x, y): None for x in range(rows) for y in range(cols)}\n",
        "\n",
        "    # Priority queue for open list\n",
        "    open_list = [(f_score[start], start)]\n",
        "\n",
        "    # Closed list to store explored nodes\n",
        "    closed_list = set()\n",
        "\n",
        "    while open_list:\n",
        "        # Get the node with the lowest f_score\n",
        "        current_f_score, current_node = min(open_list)\n",
        "\n",
        "        # If goal is reached, reconstruct path\n",
        "        if current_node == goal:\n",
        "            path = []\n",
        "            while current_node:\n",
        "                path.append(current_node)\n",
        "                current_node = parent[current_node]\n",
        "            return path[::-1]  # Reverse for start to goal order\n",
        "\n",
        "        open_list.remove((current_f_score, current_node))\n",
        "        closed_list.add(current_node)\n",
        "\n",
        "        # Explore neighbors\n",
        "        for dx, dy in [(0, 1), (1, 0), (0, -1), (-1, 0)]:\n",
        "            x, y = current_node[0] + dx, current_node[1] + dy\n",
        "            if 0 <= x < rows and 0 <= y < cols and maze[x][y] != 'W':  # Check if valid neighbor\n",
        "                neighbor = (x, y)\n",
        "                tentative_g_score = g_score[current_node] + 1  # Assuming uniform movement cost\n",
        "\n",
        "                # If neighbor not yet explored or has better path through current node\n",
        "                if neighbor not in closed_list and tentative_g_score < g_score.get(neighbor, float('inf')):\n",
        "                    parent[neighbor] = current_node\n",
        "                    g_score[neighbor] = tentative_g_score\n",
        "                    f_score[neighbor] = g_score[neighbor] + manhattan_distance(neighbor, goal)\n",
        "                    open_list.append((f_score[neighbor], neighbor))\n",
        "\n",
        "    return None  # No path found\n",
        "\n",
        "# Example maze (replace with your actual maze layout)\n",
        "maze = [\n",
        "    [' ', ' ', 'W', ' ', 'X', 'Y'],  # Green represents Start (A) and Goal (Y)\n",
        "    ['R', 'S', 'T', 'U', ' ', 'V'],\n",
        "    ['M', 'N', ' ', 'O', 'P', 'Q'],\n",
        "    ['H', 'I', 'J', ' ', 'K', 'L'],\n",
        "    ['F', ' ', 'G', ' ', ' ', ' '],\n",
        "    ['A', ' ', 'B', 'C', 'D', 'E'],\n",
        "]\n",
        "\n",
        "start = (0, 0)  # Replace with your actual start position (A)\n",
        "goal = (5, 5)   # Replace with your actual goal position (Y)\n",
        "\n",
        "path = a_star_search(maze, start, goal)\n",
        "\n",
        "if path:\n",
        "    print(\"Path found:\", path)\n",
        "else:\n",
        "    print(\"No path found\")\n"
      ],
      "metadata": {
        "colab": {
          "base_uri": "https://localhost:8080/"
        },
        "id": "HFYjdtkCwz_d",
        "outputId": "4ff4d5f9-ce9f-49eb-a296-9d5c6f13ecbe"
      },
      "execution_count": 2,
      "outputs": [
        {
          "output_type": "stream",
          "name": "stdout",
          "text": [
            "Path found: [(0, 0), (0, 1), (1, 1), (1, 2), (1, 3), (1, 4), (1, 5), (2, 5), (3, 5), (4, 5), (5, 5)]\n"
          ]
        }
      ]
    },
    {
      "cell_type": "markdown",
      "source": [
        "## **Task 4:**\n",
        "**Implement Alpha-Beta Pruning using python.**\n"
      ],
      "metadata": {
        "id": "vvn3Fgdq9ArS"
      }
    },
    {
      "cell_type": "code",
      "source": [
        "import math as m\n",
        "\n",
        "# Represents a node in the game tree\n",
        "class TreeNode:\n",
        "    def __init__(self, val):\n",
        "        self.val = val\n",
        "        self.children = []\n",
        "\n",
        "# Alpha-Beta Pruning algorithm\n",
        "def alpha_beta_pruning(node, depth, alpha, beta, maximizing_player):\n",
        "    if depth == 0 or len(node.children) == 0:\n",
        "        return node.val\n",
        "\n",
        "    if maximizing_player:\n",
        "        max_val = -m.inf\n",
        "        for child in node.children:\n",
        "            val = alpha_beta_pruning(child, depth - 1, alpha, beta, False)\n",
        "            max_val = max(max_val, val)\n",
        "            alpha = max(alpha, max_val)\n",
        "            if beta <= alpha:\n",
        "                break\n",
        "        return max_val\n",
        "    else:\n",
        "        min_val = m.inf\n",
        "        for child in node.children:\n",
        "            val = alpha_beta_pruning(child, depth - 1, alpha, beta, True)\n",
        "            min_val = min(min_val, val)\n",
        "            beta = min(beta, min_val)\n",
        "            if beta <= alpha:\n",
        "                break\n",
        "        return min_val\n",
        "\n",
        "# Example usage\n",
        "root = TreeNode(0)\n",
        "root.children = [TreeNode(3), TreeNode(6), TreeNode(5)]\n",
        "root.children[0].children = [TreeNode(9), TreeNode(12), TreeNode(8)]\n",
        "root.children[1].children = [TreeNode(5), TreeNode(7), TreeNode(4)]\n",
        "root.children[2].children = [TreeNode(1), TreeNode(10), TreeNode(2)]\n",
        "\n",
        "alpha_value = -m.inf\n",
        "beta_value = m.inf\n",
        "depth_value = 3\n",
        "maximizing_player_flag = True\n",
        "\n",
        "optimal_val = alpha_beta_pruning(root, depth_value, alpha_value, beta_value, maximizing_player_flag)\n",
        "print(\"Optimal value:\", optimal_val)\n"
      ],
      "metadata": {
        "colab": {
          "base_uri": "https://localhost:8080/"
        },
        "id": "DhY5OgBh9Iv1",
        "outputId": "a492d1a1-5653-401e-bbd2-ff2a443a8f70"
      },
      "execution_count": 3,
      "outputs": [
        {
          "output_type": "stream",
          "name": "stdout",
          "text": [
            "Optimal value: 8\n"
          ]
        }
      ]
    }
  ]
}